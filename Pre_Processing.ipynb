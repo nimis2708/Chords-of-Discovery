{
  "cells": [
    {
      "cell_type": "markdown",
      "source": [
        "# ACTIVITY 2 - PRE PROCESSING THE DATA:\n",
        "\n",
        "#### This secitionn is to preprocess text documents, such as song lyrics, by normalizing and cleaning them for natural language processing (NLP) tasks. It standardizes the text by converting it to lowercase, removing special characters, punctuation, and numbers, and filtering out both standard English stopwords and custom stopwords specific to the domain (e.g., filler words like \"yeah\" and \"gonna\"). The code tokenizes the text into individual words, removes irrelevant tokens, and handles stray apostrophes to produce a clean and consistent version of the input. This prepares the data for more effective analysis in tasks like clustering, classification, or sentiment analysis."
      ],
      "metadata": {
        "id": "AinUC8GXfy03"
      },
      "id": "AinUC8GXfy03"
    },
    {
      "cell_type": "code",
      "execution_count": null,
      "id": "7fb8b5a8",
      "metadata": {
        "id": "7fb8b5a8"
      },
      "outputs": [],
      "source": [
        "import numpy as np\n",
        "import pandas as pd\n",
        "import matplotlib.pyplot as plt\n",
        "import nltk\n",
        "import re\n",
        "import spacy\n",
        "from gensim import corpora, models\n",
        "import gensim\n",
        "from gensim.matutils import hellinger\n",
        "from scipy.spatial.distance import cosine\n",
        "from nltk.sentiment.vader import SentimentIntensityAnalyzer\n",
        "from sklearn.feature_extraction.text import TfidfVectorizer\n",
        "from sklearn.metrics.pairwise import cosine_similarity\n",
        "import string"
      ]
    },
    {
      "cell_type": "code",
      "execution_count": null,
      "id": "573ac7c8",
      "metadata": {
        "id": "573ac7c8"
      },
      "outputs": [],
      "source": [
        "nlp = spacy.load('en_core_web_sm')"
      ]
    },
    {
      "cell_type": "code",
      "execution_count": null,
      "id": "0f78c3c2",
      "metadata": {
        "id": "0f78c3c2"
      },
      "outputs": [],
      "source": [
        "df = pd.read_csv('ReducedDataset.csv')"
      ]
    },
    {
      "cell_type": "code",
      "execution_count": null,
      "id": "a8e03e85",
      "metadata": {
        "id": "a8e03e85",
        "outputId": "b1c0694e-9f46-4c41-f320-1a2597cc7719"
      },
      "outputs": [
        {
          "data": {
            "text/html": [
              "<div>\n",
              "<style scoped>\n",
              "    .dataframe tbody tr th:only-of-type {\n",
              "        vertical-align: middle;\n",
              "    }\n",
              "\n",
              "    .dataframe tbody tr th {\n",
              "        vertical-align: top;\n",
              "    }\n",
              "\n",
              "    .dataframe thead th {\n",
              "        text-align: right;\n",
              "    }\n",
              "</style>\n",
              "<table border=\"1\" class=\"dataframe\">\n",
              "  <thead>\n",
              "    <tr style=\"text-align: right;\">\n",
              "      <th></th>\n",
              "      <th>Unnamed: 0</th>\n",
              "      <th>ALink</th>\n",
              "      <th>SName</th>\n",
              "      <th>SLink</th>\n",
              "      <th>Lyric</th>\n",
              "      <th>language</th>\n",
              "    </tr>\n",
              "  </thead>\n",
              "  <tbody>\n",
              "    <tr>\n",
              "      <th>0</th>\n",
              "      <td>139419</td>\n",
              "      <td>/foo-fighters/</td>\n",
              "      <td>Hey, Johnny Park!</td>\n",
              "      <td>/foo-fighters/hey-johnny-park.html</td>\n",
              "      <td>Come and I'll take you under\\nThis beautiful b...</td>\n",
              "      <td>en</td>\n",
              "    </tr>\n",
              "    <tr>\n",
              "      <th>1</th>\n",
              "      <td>290738</td>\n",
              "      <td>/mxpx/</td>\n",
              "      <td>Call In Sick</td>\n",
              "      <td>/mxpx/call-in-sick.html</td>\n",
              "      <td>Oh how I missed you,\\nOh how I needed you toda...</td>\n",
              "      <td>en</td>\n",
              "    </tr>\n",
              "    <tr>\n",
              "      <th>2</th>\n",
              "      <td>162905</td>\n",
              "      <td>/arch-enemy/</td>\n",
              "      <td>Despicable Heroes</td>\n",
              "      <td>/arch-enemy/despicable-heroes.html</td>\n",
              "      <td>I spit in your face, preacers and leaders\\nSpe...</td>\n",
              "      <td>en</td>\n",
              "    </tr>\n",
              "    <tr>\n",
              "      <th>3</th>\n",
              "      <td>281035</td>\n",
              "      <td>/the-maine/</td>\n",
              "      <td>Whoever She Is</td>\n",
              "      <td>/the-maine/whoever-she-is.html</td>\n",
              "      <td>I thought I had my girl but she ran away\\nMy c...</td>\n",
              "      <td>en</td>\n",
              "    </tr>\n",
              "    <tr>\n",
              "      <th>4</th>\n",
              "      <td>253213</td>\n",
              "      <td>/a-ha/</td>\n",
              "      <td>Days On End</td>\n",
              "      <td>/a-ha/days-on-end.html</td>\n",
              "      <td>Do know why winter's such a cold and lonely pl...</td>\n",
              "      <td>en</td>\n",
              "    </tr>\n",
              "  </tbody>\n",
              "</table>\n",
              "</div>"
            ],
            "text/plain": [
              "   Unnamed: 0           ALink              SName  \\\n",
              "0      139419  /foo-fighters/  Hey, Johnny Park!   \n",
              "1      290738          /mxpx/       Call In Sick   \n",
              "2      162905    /arch-enemy/  Despicable Heroes   \n",
              "3      281035     /the-maine/     Whoever She Is   \n",
              "4      253213          /a-ha/        Days On End   \n",
              "\n",
              "                                SLink  \\\n",
              "0  /foo-fighters/hey-johnny-park.html   \n",
              "1             /mxpx/call-in-sick.html   \n",
              "2  /arch-enemy/despicable-heroes.html   \n",
              "3      /the-maine/whoever-she-is.html   \n",
              "4              /a-ha/days-on-end.html   \n",
              "\n",
              "                                               Lyric language  \n",
              "0  Come and I'll take you under\\nThis beautiful b...       en  \n",
              "1  Oh how I missed you,\\nOh how I needed you toda...       en  \n",
              "2  I spit in your face, preacers and leaders\\nSpe...       en  \n",
              "3  I thought I had my girl but she ran away\\nMy c...       en  \n",
              "4  Do know why winter's such a cold and lonely pl...       en  "
            ]
          },
          "execution_count": 4,
          "metadata": {},
          "output_type": "execute_result"
        }
      ],
      "source": [
        "df.head(5)"
      ]
    },
    {
      "cell_type": "code",
      "execution_count": null,
      "id": "2ab431bf",
      "metadata": {
        "id": "2ab431bf"
      },
      "outputs": [],
      "source": [
        "df_en = df[df['language']=='en']"
      ]
    },
    {
      "cell_type": "code",
      "execution_count": null,
      "id": "d078b138",
      "metadata": {
        "colab": {
          "base_uri": "https://localhost:8080/",
          "height": 258
        },
        "id": "d078b138",
        "outputId": "24c7ca93-71e4-4af1-aeff-fbc0fe693eae"
      },
      "outputs": [
        {
          "data": {
            "application/vnd.google.colaboratory.intrinsic+json": {
              "summary": "{\n  \"name\": \"df_en\",\n  \"rows\": 38363,\n  \"fields\": [\n    {\n      \"column\": \"Unnamed: 0\",\n      \"properties\": {\n        \"dtype\": \"number\",\n        \"std\": 106052,\n        \"min\": 69,\n        \"max\": 379929,\n        \"num_unique_values\": 38363,\n        \"samples\": [\n          15004,\n          140437,\n          285197\n        ],\n        \"semantic_type\": \"\",\n        \"description\": \"\"\n      }\n    },\n    {\n      \"column\": \"ALink\",\n      \"properties\": {\n        \"dtype\": \"category\",\n        \"num_unique_values\": 2189,\n        \"samples\": [\n          \"/liam-gallagher/\",\n          \"/kenny-g/\",\n          \"/pete-seeger/\"\n        ],\n        \"semantic_type\": \"\",\n        \"description\": \"\"\n      }\n    },\n    {\n      \"column\": \"SName\",\n      \"properties\": {\n        \"dtype\": \"string\",\n        \"num_unique_values\": 33159,\n        \"samples\": [\n          \"Workingman's Hands\",\n          \"Pocahontas - Listen With Your Heart\",\n          \"Let It Roll\"\n        ],\n        \"semantic_type\": \"\",\n        \"description\": \"\"\n      }\n    },\n    {\n      \"column\": \"SLink\",\n      \"properties\": {\n        \"dtype\": \"string\",\n        \"num_unique_values\": 38362,\n        \"samples\": [\n          \"/dolly-parton/traveling-man.html\",\n          \"/hole/i-think-that-i-would-die.html\",\n          \"/wire/perspex-icon.html\"\n        ],\n        \"semantic_type\": \"\",\n        \"description\": \"\"\n      }\n    },\n    {\n      \"column\": \"Lyric\",\n      \"properties\": {\n        \"dtype\": \"string\",\n        \"num_unique_values\": 38188,\n        \"samples\": [\n          \"Alright\\nRight now\\n\\nI'm in prison and I think I built my own cell\\nProphets speak softly, homie, they don't yell\\nOnly those that hear my music know my lower depths\\nThe doer does, the knower rests\\nThe scholar learns, the sage forgets\\nIf I could wrap my head around it\\nThen I might get a shot\\nI get what I think about whether I like it or not\\nWhen things go wrong, life doesn't stop\\nI need to quit pollutin' my mind with sex and violence\\nThe secret that I'm seekin' was left in silence\\nAnd my microphone is pointin' God's finger\\nI'm a saint disguised as a pop singer\\nHere's a fun fact\\nMost people leave their potential untapped\\nThere will be more than camping gear to unpack\\nSometimes, you gotta go there just to come back\\n\\nSlow it down, I still got the feelin', baby\\nSlow it down, no more runnin' around\\nI say slow it down, I still got the feelin', baby\\nSlow it down, no more runnin' around\\n\\nMy foot hurts, I didn't get sleep\\nMy dad died, my horoscope ain't in sync\\nI'm misunderstood and Twitter is ruthless\\nUh oh, I think my problems are excuses\\nFor not bein' who I know I am\\nI'm 31, there's no one left to hold my hand\\nThough I believe I got someone watchin' over me\\nI believe I'm exactly where I'm supposed to be\\nI believe that even when the road is bleak\\nThat these obstacles were set up just for me\\nAnd family matters, I'm on some Urkel shit\\nPosner on a Primo beat, this some full circle shit\\nI believe no matter how high the hurdles get\\nI can flip this whole thing into an internal win\\nLife ain't meant to be a heavy thing\\nMet Ram Dass, he told me, \\\"Just love everything\\\"\\nFall in Michigan, there's wisdom in my loose leaf\\nFor the first time, I feel like the true me\\n\\nSlow it down, I still got the feelin', baby\\nSlow it down, no more runnin' around\\nI say slow it down, I still got the feelin', baby\\nSlow it down, no more runnin' around\\n\\nSome days, I can't get out of bed\\nCrippled by negative thoughts inside my head\\nLike why do I always stop before my limits?\\nAnd why am I only good at lovin' people from a distance?\\nWhy and I so vain? Obsessed with fitness?\\nWhy are the only people I'm around my assistants?\\nBut wait, the last time I felt this way\\nI bucked up, kept goin' and got my shit straight\\nDiddy told me go with my heart\\nSo my focus is art, not where I go on the chart\\nThe divine light in me loves to glow in the dark\\nIf my life was a movie, we'd be approachin' the part\\nWhere the hero wins and learns don't\\nChase what you already got and returns home\\nThose who say don't know, those who know don't say\\nI'm done walking with the herd, it's time I go my own way\\n\\nSlow it down, I still got the feelin', baby\\nSlow it down, no more runnin' around\\nI say slow it down, yeah, I still got the feelin', baby\\nSlow it down, no more runnin' around, yeah\",\n          \"And I'm in the ocean\\nFresher than a bitch, sipping on some shit\\nFresher than a bitch, count the brand new kicks.\\nI'm the world around the?\\nAnd I came so hard with the ?\\n2012?\\n\\nNigger fresh, I'm the same\\nWhen you see me, stupid clean\\nNigger is mad, nigger is mad\\nNever ever I don't brag, I don't brag\\nI'm just ?clever, and I ?\\n\\nMaking history every time you flip the channel\\nHaters get ?, young soldier boy\\nYeah, I'm that mother fucking nigger\\nThat you see on the shopping spree\\nEverything I ? I complete\\nEverything is on the regular!\\nCash on my schedule, this little?\\n\\nDon't? down, and you know I'm getting hot\\nright next to a clown, no no, but?\\nSmoke it up, smoke it up\\nRoll this shit, roll this shit\\nPut it in your? don't choke, bitch, choke bitch\\nEverywhere you go, you know I smoke this, smoke this\\nNever gave a fuck, I provoke it, voke it\\nYoung nigger rolling, young nigger music\\nYoung nigger, pretty nigger, rich nigger music.\\nAnd that fucking?\\n\\nBad bitched with me, never gave a fuck,\\nwe're here, switching chair!\\nI had the shit all down to us\\n? money, gang, what a fuck?\\n\\n?we're getting cash every day,\\nSee my niggers in the town\\nI'm? put it down, and I .. the fucking crowd\\nNiggers, come and kill it now\\nNiggers, come and ?now\\nYoung digits, so? with this shit\\nYoung music coming in\\nPurple drink what I sip\\n\\nYoung niggers smoking herb, young niggers doing work\\nGetting cash, getting cash, getting money, yes I serve\\nServe on the? toss it in my hood\\nWest Side, West side, everything all good\\nAnd I'm in the?\\nAnd I'm gripping?\\n\\nNiggers mad at the swag, only wish..\\nYoung nigger click, with the shit up in your?\\nEverywhere we go, you know I'm smoking it, smoking it\\nCush on.. man, who rolling it, rolling it?\\nGo along? nigger\\nCall .. tell him cut the check!\\nYoung ?when you see me, young?\\n\\nAll the whores going crazy, I'mma make history\\nPut my name in a mother fucking text\\nPlus you know everywhere I go that's a?\\nYoung nigger gotta?\\nKeep a nigger s clean, got a? on my shades\\nGot Versaci rolling in?\\nI go higher, I go faster, I gave money, you're like?\\n\\nI'm so flyer, I get higher, I go fire\\nYoung nigger came in..\\nNigger where we're rapping?\\nYoung niggers so fly, never ever gave a fuck\\nWrite my name in the sky, young niggers rolling up\\nRolling up, more drink, more drink, more hoes, more bitches\\nDude, I really know ?\\n\\nIn the hood, in the? toast it at the fucking?\\nYoung niggers making all this money at the back\\nWhen I step inside the? all that cash I'm?\\nWe gonna drink champagne in this..\\nNever ever gave a fuck, I'm too young, I'm too rich\\nTake that shit and smoke it up!\",\n          \"[ A E D C# B F# E ] x4\\n\\n[ Bb B ] x4\\n\\n[ Ab A ] x4\\n\\n\\nA\\nShe came from a happy home, a very happy home\\nE D\\nA very happy home\\n\\n\\nMiss personality, a grade 'A' student naturally\\nShe had it all worked out\\n\\n\\nD E\\nBut things aren't what they seem\\nC# F#\\nIs this real or just a dream\\nD E\\nAnd things will never ever be the same again\\n\\n\\nShe came from a happy home, a very happy home\\nA home of happiness\\n\\nMiss personality, a grade 'A' student naturally\\nShe had it all in place\\n\\nBut things aren't what they seem...\\n\\n\\nA E D C# B F# E\\nThe dangers\\nIts the dangers of love\\nThe dangers\\nIts the dangers of love\\n\\n\\nShe came from a happy home, a very happy home\\nA very happy scene\\n\\nShe caught him with another it turns out it was her mother\\nWhat a tragedy\\n\\nCan things be what they seem\\nIs this just some crazy dream\\nThings may never ever be the same again\\n\\nThe dangers...\\n\\n\\nE\\n\\n\\nF# D\\nKeep telling li..ie..es, but you did\\nE Eb E Eb E Eb E\\nYou know you did, its coming, its coming, its coming\\n\\n\\n[ A E D C# B F# E ]\\n\\n\\nThe dangers...\\n\\n\\nF# D\\nWhat went wrong she couldn't tell\\nF# E\\nBut we know it all too well\\n\\n\\nThe dangers...\\n\\nThe dangers...\\n\\nThe dangers...\"\n        ],\n        \"semantic_type\": \"\",\n        \"description\": \"\"\n      }\n    },\n    {\n      \"column\": \"language\",\n      \"properties\": {\n        \"dtype\": \"category\",\n        \"num_unique_values\": 1,\n        \"samples\": [\n          \"en\"\n        ],\n        \"semantic_type\": \"\",\n        \"description\": \"\"\n      }\n    }\n  ]\n}",
              "type": "dataframe",
              "variable_name": "df_en"
            },
            "text/html": [
              "\n",
              "  <div id=\"df-5553d64e-6eef-4eb4-b94a-d4f9059b8b0f\" class=\"colab-df-container\">\n",
              "    <div>\n",
              "<style scoped>\n",
              "    .dataframe tbody tr th:only-of-type {\n",
              "        vertical-align: middle;\n",
              "    }\n",
              "\n",
              "    .dataframe tbody tr th {\n",
              "        vertical-align: top;\n",
              "    }\n",
              "\n",
              "    .dataframe thead th {\n",
              "        text-align: right;\n",
              "    }\n",
              "</style>\n",
              "<table border=\"1\" class=\"dataframe\">\n",
              "  <thead>\n",
              "    <tr style=\"text-align: right;\">\n",
              "      <th></th>\n",
              "      <th>Unnamed: 0</th>\n",
              "      <th>ALink</th>\n",
              "      <th>SName</th>\n",
              "      <th>SLink</th>\n",
              "      <th>Lyric</th>\n",
              "      <th>language</th>\n",
              "    </tr>\n",
              "  </thead>\n",
              "  <tbody>\n",
              "    <tr>\n",
              "      <th>0</th>\n",
              "      <td>139419</td>\n",
              "      <td>/foo-fighters/</td>\n",
              "      <td>Hey, Johnny Park!</td>\n",
              "      <td>/foo-fighters/hey-johnny-park.html</td>\n",
              "      <td>Come and I'll take you under\\nThis beautiful b...</td>\n",
              "      <td>en</td>\n",
              "    </tr>\n",
              "    <tr>\n",
              "      <th>1</th>\n",
              "      <td>290738</td>\n",
              "      <td>/mxpx/</td>\n",
              "      <td>Call In Sick</td>\n",
              "      <td>/mxpx/call-in-sick.html</td>\n",
              "      <td>Oh how I missed you,\\nOh how I needed you toda...</td>\n",
              "      <td>en</td>\n",
              "    </tr>\n",
              "    <tr>\n",
              "      <th>2</th>\n",
              "      <td>162905</td>\n",
              "      <td>/arch-enemy/</td>\n",
              "      <td>Despicable Heroes</td>\n",
              "      <td>/arch-enemy/despicable-heroes.html</td>\n",
              "      <td>I spit in your face, preacers and leaders\\nSpe...</td>\n",
              "      <td>en</td>\n",
              "    </tr>\n",
              "    <tr>\n",
              "      <th>3</th>\n",
              "      <td>281035</td>\n",
              "      <td>/the-maine/</td>\n",
              "      <td>Whoever She Is</td>\n",
              "      <td>/the-maine/whoever-she-is.html</td>\n",
              "      <td>I thought I had my girl but she ran away\\nMy c...</td>\n",
              "      <td>en</td>\n",
              "    </tr>\n",
              "    <tr>\n",
              "      <th>4</th>\n",
              "      <td>253213</td>\n",
              "      <td>/a-ha/</td>\n",
              "      <td>Days On End</td>\n",
              "      <td>/a-ha/days-on-end.html</td>\n",
              "      <td>Do know why winter's such a cold and lonely pl...</td>\n",
              "      <td>en</td>\n",
              "    </tr>\n",
              "  </tbody>\n",
              "</table>\n",
              "</div>\n",
              "    <div class=\"colab-df-buttons\">\n",
              "\n",
              "  <div class=\"colab-df-container\">\n",
              "    <button class=\"colab-df-convert\" onclick=\"convertToInteractive('df-5553d64e-6eef-4eb4-b94a-d4f9059b8b0f')\"\n",
              "            title=\"Convert this dataframe to an interactive table.\"\n",
              "            style=\"display:none;\">\n",
              "\n",
              "  <svg xmlns=\"http://www.w3.org/2000/svg\" height=\"24px\" viewBox=\"0 -960 960 960\">\n",
              "    <path d=\"M120-120v-720h720v720H120Zm60-500h600v-160H180v160Zm220 220h160v-160H400v160Zm0 220h160v-160H400v160ZM180-400h160v-160H180v160Zm440 0h160v-160H620v160ZM180-180h160v-160H180v160Zm440 0h160v-160H620v160Z\"/>\n",
              "  </svg>\n",
              "    </button>\n",
              "\n",
              "  <style>\n",
              "    .colab-df-container {\n",
              "      display:flex;\n",
              "      gap: 12px;\n",
              "    }\n",
              "\n",
              "    .colab-df-convert {\n",
              "      background-color: #E8F0FE;\n",
              "      border: none;\n",
              "      border-radius: 50%;\n",
              "      cursor: pointer;\n",
              "      display: none;\n",
              "      fill: #1967D2;\n",
              "      height: 32px;\n",
              "      padding: 0 0 0 0;\n",
              "      width: 32px;\n",
              "    }\n",
              "\n",
              "    .colab-df-convert:hover {\n",
              "      background-color: #E2EBFA;\n",
              "      box-shadow: 0px 1px 2px rgba(60, 64, 67, 0.3), 0px 1px 3px 1px rgba(60, 64, 67, 0.15);\n",
              "      fill: #174EA6;\n",
              "    }\n",
              "\n",
              "    .colab-df-buttons div {\n",
              "      margin-bottom: 4px;\n",
              "    }\n",
              "\n",
              "    [theme=dark] .colab-df-convert {\n",
              "      background-color: #3B4455;\n",
              "      fill: #D2E3FC;\n",
              "    }\n",
              "\n",
              "    [theme=dark] .colab-df-convert:hover {\n",
              "      background-color: #434B5C;\n",
              "      box-shadow: 0px 1px 3px 1px rgba(0, 0, 0, 0.15);\n",
              "      filter: drop-shadow(0px 1px 2px rgba(0, 0, 0, 0.3));\n",
              "      fill: #FFFFFF;\n",
              "    }\n",
              "  </style>\n",
              "\n",
              "    <script>\n",
              "      const buttonEl =\n",
              "        document.querySelector('#df-5553d64e-6eef-4eb4-b94a-d4f9059b8b0f button.colab-df-convert');\n",
              "      buttonEl.style.display =\n",
              "        google.colab.kernel.accessAllowed ? 'block' : 'none';\n",
              "\n",
              "      async function convertToInteractive(key) {\n",
              "        const element = document.querySelector('#df-5553d64e-6eef-4eb4-b94a-d4f9059b8b0f');\n",
              "        const dataTable =\n",
              "          await google.colab.kernel.invokeFunction('convertToInteractive',\n",
              "                                                    [key], {});\n",
              "        if (!dataTable) return;\n",
              "\n",
              "        const docLinkHtml = 'Like what you see? Visit the ' +\n",
              "          '<a target=\"_blank\" href=https://colab.research.google.com/notebooks/data_table.ipynb>data table notebook</a>'\n",
              "          + ' to learn more about interactive tables.';\n",
              "        element.innerHTML = '';\n",
              "        dataTable['output_type'] = 'display_data';\n",
              "        await google.colab.output.renderOutput(dataTable, element);\n",
              "        const docLink = document.createElement('div');\n",
              "        docLink.innerHTML = docLinkHtml;\n",
              "        element.appendChild(docLink);\n",
              "      }\n",
              "    </script>\n",
              "  </div>\n",
              "\n",
              "\n",
              "<div id=\"df-a4639e55-6e15-48b7-8ad6-81a43a2b69f7\">\n",
              "  <button class=\"colab-df-quickchart\" onclick=\"quickchart('df-a4639e55-6e15-48b7-8ad6-81a43a2b69f7')\"\n",
              "            title=\"Suggest charts\"\n",
              "            style=\"display:none;\">\n",
              "\n",
              "<svg xmlns=\"http://www.w3.org/2000/svg\" height=\"24px\"viewBox=\"0 0 24 24\"\n",
              "     width=\"24px\">\n",
              "    <g>\n",
              "        <path d=\"M19 3H5c-1.1 0-2 .9-2 2v14c0 1.1.9 2 2 2h14c1.1 0 2-.9 2-2V5c0-1.1-.9-2-2-2zM9 17H7v-7h2v7zm4 0h-2V7h2v10zm4 0h-2v-4h2v4z\"/>\n",
              "    </g>\n",
              "</svg>\n",
              "  </button>\n",
              "\n",
              "<style>\n",
              "  .colab-df-quickchart {\n",
              "      --bg-color: #E8F0FE;\n",
              "      --fill-color: #1967D2;\n",
              "      --hover-bg-color: #E2EBFA;\n",
              "      --hover-fill-color: #174EA6;\n",
              "      --disabled-fill-color: #AAA;\n",
              "      --disabled-bg-color: #DDD;\n",
              "  }\n",
              "\n",
              "  [theme=dark] .colab-df-quickchart {\n",
              "      --bg-color: #3B4455;\n",
              "      --fill-color: #D2E3FC;\n",
              "      --hover-bg-color: #434B5C;\n",
              "      --hover-fill-color: #FFFFFF;\n",
              "      --disabled-bg-color: #3B4455;\n",
              "      --disabled-fill-color: #666;\n",
              "  }\n",
              "\n",
              "  .colab-df-quickchart {\n",
              "    background-color: var(--bg-color);\n",
              "    border: none;\n",
              "    border-radius: 50%;\n",
              "    cursor: pointer;\n",
              "    display: none;\n",
              "    fill: var(--fill-color);\n",
              "    height: 32px;\n",
              "    padding: 0;\n",
              "    width: 32px;\n",
              "  }\n",
              "\n",
              "  .colab-df-quickchart:hover {\n",
              "    background-color: var(--hover-bg-color);\n",
              "    box-shadow: 0 1px 2px rgba(60, 64, 67, 0.3), 0 1px 3px 1px rgba(60, 64, 67, 0.15);\n",
              "    fill: var(--button-hover-fill-color);\n",
              "  }\n",
              "\n",
              "  .colab-df-quickchart-complete:disabled,\n",
              "  .colab-df-quickchart-complete:disabled:hover {\n",
              "    background-color: var(--disabled-bg-color);\n",
              "    fill: var(--disabled-fill-color);\n",
              "    box-shadow: none;\n",
              "  }\n",
              "\n",
              "  .colab-df-spinner {\n",
              "    border: 2px solid var(--fill-color);\n",
              "    border-color: transparent;\n",
              "    border-bottom-color: var(--fill-color);\n",
              "    animation:\n",
              "      spin 1s steps(1) infinite;\n",
              "  }\n",
              "\n",
              "  @keyframes spin {\n",
              "    0% {\n",
              "      border-color: transparent;\n",
              "      border-bottom-color: var(--fill-color);\n",
              "      border-left-color: var(--fill-color);\n",
              "    }\n",
              "    20% {\n",
              "      border-color: transparent;\n",
              "      border-left-color: var(--fill-color);\n",
              "      border-top-color: var(--fill-color);\n",
              "    }\n",
              "    30% {\n",
              "      border-color: transparent;\n",
              "      border-left-color: var(--fill-color);\n",
              "      border-top-color: var(--fill-color);\n",
              "      border-right-color: var(--fill-color);\n",
              "    }\n",
              "    40% {\n",
              "      border-color: transparent;\n",
              "      border-right-color: var(--fill-color);\n",
              "      border-top-color: var(--fill-color);\n",
              "    }\n",
              "    60% {\n",
              "      border-color: transparent;\n",
              "      border-right-color: var(--fill-color);\n",
              "    }\n",
              "    80% {\n",
              "      border-color: transparent;\n",
              "      border-right-color: var(--fill-color);\n",
              "      border-bottom-color: var(--fill-color);\n",
              "    }\n",
              "    90% {\n",
              "      border-color: transparent;\n",
              "      border-bottom-color: var(--fill-color);\n",
              "    }\n",
              "  }\n",
              "</style>\n",
              "\n",
              "  <script>\n",
              "    async function quickchart(key) {\n",
              "      const quickchartButtonEl =\n",
              "        document.querySelector('#' + key + ' button');\n",
              "      quickchartButtonEl.disabled = true;  // To prevent multiple clicks.\n",
              "      quickchartButtonEl.classList.add('colab-df-spinner');\n",
              "      try {\n",
              "        const charts = await google.colab.kernel.invokeFunction(\n",
              "            'suggestCharts', [key], {});\n",
              "      } catch (error) {\n",
              "        console.error('Error during call to suggestCharts:', error);\n",
              "      }\n",
              "      quickchartButtonEl.classList.remove('colab-df-spinner');\n",
              "      quickchartButtonEl.classList.add('colab-df-quickchart-complete');\n",
              "    }\n",
              "    (() => {\n",
              "      let quickchartButtonEl =\n",
              "        document.querySelector('#df-a4639e55-6e15-48b7-8ad6-81a43a2b69f7 button');\n",
              "      quickchartButtonEl.style.display =\n",
              "        google.colab.kernel.accessAllowed ? 'block' : 'none';\n",
              "    })();\n",
              "  </script>\n",
              "</div>\n",
              "\n",
              "    </div>\n",
              "  </div>\n"
            ],
            "text/plain": [
              "   Unnamed: 0           ALink              SName  \\\n",
              "0      139419  /foo-fighters/  Hey, Johnny Park!   \n",
              "1      290738          /mxpx/       Call In Sick   \n",
              "2      162905    /arch-enemy/  Despicable Heroes   \n",
              "3      281035     /the-maine/     Whoever She Is   \n",
              "4      253213          /a-ha/        Days On End   \n",
              "\n",
              "                                SLink  \\\n",
              "0  /foo-fighters/hey-johnny-park.html   \n",
              "1             /mxpx/call-in-sick.html   \n",
              "2  /arch-enemy/despicable-heroes.html   \n",
              "3      /the-maine/whoever-she-is.html   \n",
              "4              /a-ha/days-on-end.html   \n",
              "\n",
              "                                               Lyric language  \n",
              "0  Come and I'll take you under\\nThis beautiful b...       en  \n",
              "1  Oh how I missed you,\\nOh how I needed you toda...       en  \n",
              "2  I spit in your face, preacers and leaders\\nSpe...       en  \n",
              "3  I thought I had my girl but she ran away\\nMy c...       en  \n",
              "4  Do know why winter's such a cold and lonely pl...       en  "
            ]
          },
          "execution_count": 7,
          "metadata": {},
          "output_type": "execute_result"
        }
      ],
      "source": [
        "df_en.head(5)"
      ]
    },
    {
      "cell_type": "code",
      "execution_count": null,
      "id": "085e9f42",
      "metadata": {
        "colab": {
          "base_uri": "https://localhost:8080/"
        },
        "id": "085e9f42",
        "outputId": "49f3cec4-5485-462f-db6e-098587a6e5d7"
      },
      "outputs": [
        {
          "data": {
            "text/plain": [
              "38363"
            ]
          },
          "execution_count": 8,
          "metadata": {},
          "output_type": "execute_result"
        }
      ],
      "source": [
        "df_en.shape[0]"
      ]
    },
    {
      "cell_type": "code",
      "execution_count": null,
      "id": "74b6357c",
      "metadata": {
        "colab": {
          "base_uri": "https://localhost:8080/"
        },
        "id": "74b6357c",
        "outputId": "e1de4d28-e47b-490c-bbc9-e271be7559be"
      },
      "outputs": [
        {
          "name": "stdout",
          "output_type": "stream",
          "text": [
            "I'm comin' home, I've done my time\n",
            "Now I've got to know what is and isn't mine\n",
            "If you received my letter telling you I'd soon be free\n",
            "Then you'll know just what to do\n",
            "If you still want me\n",
            "If you still want me\n",
            "Whoa, tie a yellow ribbon 'round the old oak tree\n",
            "It's been three long years\n",
            "Do ya still want me?\n",
            "If I don't see a ribbon round the old oak tree\n",
            "I'll stay on the bus\n",
            "Forget about us\n",
            "Put the blame on me\n",
            "If I don't see a yellow ribbon round the old oak tree\n",
            "\n",
            "Bus driver, please look for me\n",
            "'cause I couldn't bear to see what I might see\n",
            "I'm really still in prison\n",
            "And my love, she holds the key\n",
            "A simple yellow ribbon's what I need to set me free\n",
            "I wrote and told her please\n",
            "\n",
            "Whoa, tie a yellow ribbon round the old oak tree\n",
            "It's been three long years\n",
            "Do ya still want me?\n",
            "If I don't see a ribbon round the old oak tree\n",
            "I'll stay on the bus\n",
            "Forget about us\n",
            "Put the blame on me\n",
            "If I don't see a yellow ribbon round the old oak tree\n",
            "\n",
            "Now the whole damned bus is cheerin'\n",
            "And I can't believe I see\n",
            "A hundred yellow ribbons round the old oak tree\n"
          ]
        }
      ],
      "source": [
        "print(df_en['Lyric'].iloc[20])"
      ]
    },
    {
      "cell_type": "markdown",
      "source": [
        "#### This code is to preprocess text documents—like song lyrics—by normalizing and filtering them to make the data more suitable for NLP tasks. This includes removing unnecessary elements like stopwords, special characters, and digits while ensuring the text is standardized and clean.\n",
        "\n",
        "#### Following are the function of the code below\n",
        "\n",
        "#### *1. Custom Stopwords:*\n",
        "\n",
        "#### In addition to the default English stopwords from NLTK, a custom_stop_words list has been defined to remove domain-specific or irrelevant words, such as \"yeah,\" \"gonna,\" \"like,\" and other common filler words in song lyrics. These are combined with the default stopwords to create the final stop_words list.\n",
        "\n",
        "#### *2. Text Normalization:*\n",
        "\n",
        "#### Converts all text to lowercase for consistency.\n",
        "\n",
        "#### Removes non-alphabetic characters (excluding spaces and apostrophes) using re.sub.\n",
        "#### Strips unnecessary whitespace to clean the text.\n",
        "\n",
        "#### *3. Tokenization and Filtering:*\n",
        "\n",
        "#### Uses the WordPunctTokenizer to split the text into words.\n",
        "#### Filters out words that are in the stop_words list or are purely numeric.\n",
        "\n",
        "#### *4. Punctuation Removal:*\n",
        "\n",
        "#### Adds a step to remove all punctuation using re.sub and string.punctuation. This ensures that punctuation marks left after tokenization are cleaned up.\n",
        "\n",
        "#### *5. Apostrophe Cleanup:*\n",
        "\n",
        "#### Handles stray apostrophes by cleaning up unnecessary or misplaced apostrophes."
      ],
      "metadata": {
        "id": "DHGNQqLYf-Ou"
      },
      "id": "DHGNQqLYf-Ou"
    },
    {
      "cell_type": "code",
      "execution_count": null,
      "id": "6ba571b9",
      "metadata": {
        "colab": {
          "base_uri": "https://localhost:8080/"
        },
        "id": "6ba571b9",
        "outputId": "7085e821-5daa-4ac6-803c-a5e97a8cebf7"
      },
      "outputs": [
        {
          "name": "stderr",
          "output_type": "stream",
          "text": [
            "[nltk_data] Downloading package stopwords to /root/nltk_data...\n",
            "[nltk_data]   Unzipping corpora/stopwords.zip.\n"
          ]
        }
      ],
      "source": [
        "# Download the stopwords library\n",
        "nltk.download('stopwords')\n",
        "\n",
        "# Establish a word punctuation tokenizer\n",
        "wpt = nltk.WordPunctTokenizer()\n",
        "\n",
        "# Establish the English stop words\n",
        "basic_stop_words = nltk.corpus.stopwords.words('english')\n",
        "\n",
        "custom_stop_words = ['get', 'yeah', 's', 'ai', 'ca', 'like', 'nt', 'ta', 'oh', 'got', 'gonna','goin','na','I', \"i'm\", \"ain't\", 'come', 'make', 'know', 'gotta']\n",
        "\n",
        "stop_words = basic_stop_words + custom_stop_words\n",
        "\n",
        "def normalize_document(doc):\n",
        "    # Lowercase and remove special characters and whitespaces\n",
        "    doc = re.sub(r\"[^a-zA-Z\\s']\", '', doc, re.I | re.A)\n",
        "    doc = doc.lower()\n",
        "    doc = doc.strip()\n",
        "\n",
        "    # Tokenize document\n",
        "    tokens = wpt.tokenize(doc)\n",
        "    filtered_tokens = [token for token in tokens if token not in stop_words and not token.isdigit()]\n",
        "    # Re-create the document from filtered tokens\n",
        "    doc = ' '.join(filtered_tokens)\n",
        "\n",
        "        # Remove punctuation\n",
        "    doc = re.sub(f\"[{re.escape(string.punctuation)}]\", '', doc)\n",
        "\n",
        "    doc = re.sub(r\"'\\s*\", \"\", doc)\n",
        "    return doc"
      ]
    },
    {
      "cell_type": "markdown",
      "source": [
        "#### This below section of codes preprocesses the text data in the Lyric column of the DataFrame df_en by applying the normalize_document function to each entry. Using np.vectorize, it cleans and standardizes the text by removing unwanted characters, punctuation, stopwords, and digits while converting it to lowercase. The result is stored in norm_corpus as a NumPy array of cleaned lyrics, ready for further NLP analysis. However, for larger datasets, using pandas' .apply() method may offer better performance."
      ],
      "metadata": {
        "id": "ZalTqSkbhQKe"
      },
      "id": "ZalTqSkbhQKe"
    },
    {
      "cell_type": "code",
      "execution_count": null,
      "id": "1f5ea694",
      "metadata": {
        "id": "1f5ea694"
      },
      "outputs": [],
      "source": [
        "normalize_corpus = np.vectorize(normalize_document)\n",
        "norm_corpus = normalize_corpus(df_en['Lyric'])"
      ]
    },
    {
      "cell_type": "code",
      "execution_count": null,
      "id": "4a35cc08",
      "metadata": {
        "colab": {
          "base_uri": "https://localhost:8080/"
        },
        "id": "4a35cc08",
        "outputId": "2a3c6b1c-e919-4e77-d608-aa0af8a5e98e"
      },
      "outputs": [
        {
          "name": "stdout",
          "output_type": "stream",
          "text": [
            " take beautiful bruise  colors everything fades time  true wish another stab undercover change mind  impossible  let  never selling sit watch every mood eyes still remind angels hover eyes change blind blue  impossible  let  never selling sit watch every mood  found reward  throw away long  share piece mine  impossible  let  never selling sit watch every mood\n"
          ]
        }
      ],
      "source": [
        "print(norm_corpus[0])"
      ]
    },
    {
      "cell_type": "code",
      "execution_count": null,
      "id": "0a046be5",
      "metadata": {
        "colab": {
          "base_uri": "https://localhost:8080/"
        },
        "id": "0a046be5",
        "outputId": "fbb5c29f-a822-455b-964c-c999c389cd27"
      },
      "outputs": [
        {
          "name": "stdout",
          "output_type": "stream",
          "text": [
            "   \n",
            "take take\n",
            "beautiful beautiful\n",
            "bruise bruise\n",
            "   \n",
            "colors color\n",
            "everything everything\n",
            "fades fade\n",
            "time time\n",
            "   \n",
            "true true\n",
            "wish wish\n",
            "another another\n",
            "stab stab\n",
            "undercover undercover\n",
            "change change\n",
            "mind mind\n",
            "   \n",
            "impossible impossible\n",
            "   \n",
            "let let\n",
            "   \n",
            "never never\n",
            "selling sell\n",
            "sit sit\n",
            "watch watch\n",
            "every every\n",
            "mood mood\n",
            "eyes eye\n",
            "still still\n",
            "remind remind\n",
            "angels angel\n",
            "hover hover\n",
            "eyes eye\n",
            "change change\n",
            "blind blind\n",
            "blue blue\n",
            "   \n",
            "impossible impossible\n",
            "   \n",
            "let let\n",
            "   \n",
            "never never\n",
            "selling sell\n",
            "sit sit\n",
            "watch watch\n",
            "every every\n",
            "mood mood\n",
            "   \n",
            "found find\n",
            "reward reward\n",
            "   \n",
            "throw throw\n",
            "away away\n",
            "long long\n",
            "   \n",
            "share share\n",
            "piece piece\n",
            "mine mine\n",
            "   \n",
            "impossible impossible\n",
            "   \n",
            "let let\n",
            "   \n",
            "never never\n",
            "selling sell\n",
            "sit sit\n",
            "watch watch\n",
            "every every\n",
            "mood mood\n"
          ]
        }
      ],
      "source": [
        "doc = nlp(norm_corpus[0].item())\n",
        "\n",
        "for token in doc:\n",
        "    print(token.text, token.lemma_)"
      ]
    },
    {
      "cell_type": "code",
      "execution_count": null,
      "id": "c25f1b84",
      "metadata": {
        "id": "c25f1b84"
      },
      "outputs": [],
      "source": [
        "lemmatized_corpus = []\n",
        "\n",
        "for text in norm_corpus:\n",
        "    doc = nlp(text.item())\n",
        "    lemmatized_text = \" \".join([token.lemma_ for token in doc])\n",
        "    lemmatized_corpus.append(lemmatized_text)"
      ]
    },
    {
      "cell_type": "code",
      "execution_count": null,
      "id": "9ecfbc88",
      "metadata": {
        "colab": {
          "base_uri": "https://localhost:8080/"
        },
        "id": "9ecfbc88",
        "outputId": "00dfa59e-3d36-40ef-a4de-4d1bb964f9a7"
      },
      "outputs": [
        {
          "name": "stdout",
          "output_type": "stream",
          "text": [
            "  take beautiful bruise   color everything fade time   true wish another stab undercover change mind   impossible   let   never sell sit watch every mood eye still remind angel hover eye change blind blue   impossible   let   never sell sit watch every mood   find reward   throw away long   share piece mine   impossible   let   never sell sit watch every mood\n"
          ]
        }
      ],
      "source": [
        "print(lemmatized_corpus[0])"
      ]
    },
    {
      "cell_type": "code",
      "execution_count": null,
      "id": "5xzOLSJNGfuq",
      "metadata": {
        "id": "5xzOLSJNGfuq"
      },
      "outputs": [],
      "source": [
        "df = pd.DataFrame(lemmatized_corpus, columns=['lyrics'])\n",
        "df.to_csv('output_file.csv', index=False)"
      ]
    },
    {
      "cell_type": "code",
      "execution_count": null,
      "id": "1af1904d",
      "metadata": {
        "id": "1af1904d"
      },
      "outputs": [],
      "source": [
        "tokenized_corpus = [text.split() for text in lemmatized_corpus]\n",
        "\n",
        "dictionary = corpora.Dictionary(tokenized_corpus)\n",
        "corpus = [dictionary.doc2bow(text) for text in tokenized_corpus]"
      ]
    },
    {
      "cell_type": "code",
      "execution_count": null,
      "id": "gvTnKsllGfur",
      "metadata": {
        "colab": {
          "base_uri": "https://localhost:8080/"
        },
        "id": "gvTnKsllGfur",
        "outputId": "f2897115-dc23-4985-9df3-13c7ec43a039"
      },
      "outputs": [
        {
          "name": "stdout",
          "output_type": "stream",
          "text": [
            "[(202, 64544), (246, 54282), (209, 40490), (67, 37575), (32, 34549), (104, 33670), (16, 32458), (30, 31321), (282, 30233), (21, 29150)]\n",
            "Word: love, Frequency: 64544\n",
            "Word: go, Frequency: 54282\n",
            "Word: say, Frequency: 40490\n",
            "Word: see, Frequency: 37575\n",
            "Word: time, Frequency: 34549\n",
            "Word: one, Frequency: 33670\n",
            "Word: let, Frequency: 32458\n",
            "Word: take, Frequency: 31321\n",
            "Word: want, Frequency: 30233\n",
            "Word: never, Frequency: 29150\n"
          ]
        }
      ],
      "source": [
        "# check the work frequency within our dictionary that we will be using for the lda model, if a word is too frequenct it may lose value\n",
        "# Too frequent words have been added as stop words on each iteration.\n",
        "top_10_most_frequent_words = sorted(dictionary.cfs.items(), key=lambda item: item[1], reverse=True)[:10]\n",
        "print(top_10_most_frequent_words)\n",
        "for token_id, frequency in top_10_most_frequent_words:\n",
        "    word = dictionary[token_id]\n",
        "    print(f\"Word: {word}, Frequency: {frequency}\")"
      ]
    },
    {
      "cell_type": "code",
      "execution_count": null,
      "id": "AhnLRAzzGfur",
      "metadata": {
        "colab": {
          "background_save": true
        },
        "id": "AhnLRAzzGfur"
      },
      "outputs": [],
      "source": [
        "lda_model = gensim.models.LdaModel(corpus, num_topics=10, id2word=dictionary, passes=35, random_state = 42)"
      ]
    },
    {
      "cell_type": "code",
      "execution_count": null,
      "id": "f4liY03IGfur",
      "metadata": {
        "id": "f4liY03IGfur",
        "outputId": "3d1751b7-f936-4271-dfb0-16a928b16977",
        "colab": {
          "base_uri": "https://localhost:8080/"
        }
      },
      "outputs": [
        {
          "output_type": "stream",
          "name": "stdout",
          "text": [
            "Topic 0: 0.016*\"well\" + 0.016*\"man\" + 0.016*\"go\" + 0.013*\"say\" + 0.010*\"good\" + 0.010*\"little\" + 0.009*\"home\" + 0.008*\"old\" + 0.008*\"big\" + 0.007*\"one\"\n",
            "Topic 1: 0.032*\"god\" + 0.029*\"we\" + 0.023*\"lord\" + 0.021*\"sing\" + 0.015*\"song\" + 0.014*\"let\" + 0.014*\"king\" + 0.013*\"heaven\" + 0.013*\"world\" + 0.013*\"child\"\n",
            "Topic 2: 0.023*\"life\" + 0.014*\"live\" + 0.013*\"people\" + 0.011*\"world\" + 0.010*\"man\" + 0.010*\"one\" + 0.010*\"lie\" + 0.008*\"see\" + 0.007*\"time\" + 0.007*\"mind\"\n",
            "Topic 3: 0.018*\"run\" + 0.015*\"burn\" + 0.015*\"fire\" + 0.012*\"die\" + 0.012*\"take\" + 0.011*\"break\" + 0.010*\"eye\" + 0.010*\"fall\" + 0.010*\"heart\" + 0.009*\"feel\"\n",
            "Topic 4: 0.022*\"go\" + 0.019*\"time\" + 0.018*\"never\" + 0.018*\"say\" + 0.016*\"one\" + 0.015*\"see\" + 0.015*\"feel\" + 0.015*\"want\" + 0.014*\"love\" + 0.013*\"way\"\n",
            "Topic 5: 0.137*\"not\" + 0.083*\"la\" + 0.078*\"I\" + 0.075*\"do\" + 0.075*\"m\" + 0.045*\"s\" + 0.039*\"da\" + 0.037*\"can\" + 0.034*\"you\" + 0.024*\"be\"\n",
            "Topic 6: 0.258*\"love\" + 0.147*\"baby\" + 0.039*\"ooh\" + 0.028*\"ah\" + 0.022*\"need\" + 0.019*\"say\" + 0.015*\"give\" + 0.014*\"kiss\" + 0.014*\"u\" + 0.013*\"babe\"\n",
            "Topic 7: 0.015*\"nigga\" + 0.014*\"ya\" + 0.014*\"shit\" + 0.014*\"fuck\" + 0.013*\"bitch\" + 0.010*\"em\" + 0.009*\"back\" + 0.009*\"niggas\" + 0.009*\"yo\" + 0.008*\"money\"\n",
            "Topic 8: 0.027*\"night\" + 0.023*\"lyric\" + 0.023*\"light\" + 0.017*\"dream\" + 0.016*\"sky\" + 0.016*\"sun\" + 0.015*\"star\" + 0.015*\"fly\" + 0.013*\"rain\" + 0.013*\"bill\"\n",
            "Topic 9: 0.044*\"girl\" + 0.043*\"let\" + 0.043*\"wanna\" + 0.029*\"go\" + 0.025*\"hey\" + 0.020*\"want\" + 0.017*\"tonight\" + 0.016*\"right\" + 0.014*\"dance\" + 0.012*\"boy\"\n"
          ]
        }
      ],
      "source": [
        "for topic_id in range(10):\n",
        "    topic = lda_model.print_topic(topic_id)\n",
        "    print(f\"Topic {topic_id}: {topic}\")"
      ]
    },
    {
      "cell_type": "code",
      "execution_count": null,
      "id": "9VsA2QWWGfur",
      "metadata": {
        "id": "9VsA2QWWGfur",
        "outputId": "107fcbc7-5154-4298-c285-30fcd42e21e5",
        "colab": {
          "base_uri": "https://localhost:8080/"
        }
      },
      "outputs": [
        {
          "output_type": "stream",
          "name": "stdout",
          "text": [
            "     Word  Count\n",
            "9     one      3\n",
            "2      go      3\n",
            "3     say      3\n",
            "24    see      2\n",
            "25   time      2\n",
            "18  world      2\n",
            "36   feel      2\n",
            "15    let      2\n",
            "39   love      2\n",
            "38   want      2\n"
          ]
        }
      ],
      "source": [
        "# Verify that a singular word is not used in a large majority of the topics or else that word may not hold much value\n",
        "word_counts = {}\n",
        "num_topics = lda_model.num_topics\n",
        "\n",
        "for topic_id in range(num_topics):\n",
        "    topic_words = lda_model.show_topic(topic_id, topn=10)\n",
        "\n",
        "    for word, prob in topic_words:\n",
        "        if word in word_counts:\n",
        "            word_counts[word] += 1\n",
        "        else:\n",
        "            word_counts[word] = 1\n",
        "\n",
        "word_count_topic_list = pd.DataFrame(list(word_counts.items()), columns=['Word', 'Count'])\n",
        "\n",
        "word_count_topic_list = word_count_topic_list.sort_values(by='Count', ascending=False)\n",
        "\n",
        "print(word_count_topic_list.head(10))"
      ]
    },
    {
      "cell_type": "code",
      "execution_count": null,
      "id": "800298a0",
      "metadata": {
        "id": "800298a0"
      },
      "outputs": [],
      "source": [
        "song_topic_distribution = [lda_model[doc] for doc in corpus]"
      ]
    },
    {
      "cell_type": "code",
      "execution_count": null,
      "id": "2IXw1Fg1Gfus",
      "metadata": {
        "id": "2IXw1Fg1Gfus",
        "outputId": "f14791bd-6385-4894-ca34-2e6a0cd3445c",
        "colab": {
          "base_uri": "https://localhost:8080/"
        }
      },
      "outputs": [
        {
          "output_type": "stream",
          "name": "stdout",
          "text": [
            "\n",
            "Top 5 most similar songs to the input song Star by /beck/:\n",
            "Song This House is Haunted by /alice-cooper/\n",
            "Song Big Star by /10000-maniacs/\n",
            "Song She Sets The City On Fire by /gavin-degraw/\n",
            "Song Goodnite, Dr. Death by /my-chemical-romance/\n",
            "Song Dirty Boys by /david-bowie/\n"
          ]
        }
      ],
      "source": [
        "def calculate_hellinger_distance(song_dist_1, song_dist_2):\n",
        "    return hellinger(song_dist_1, song_dist_2)\n",
        "\n",
        "input_song_index = 139\n",
        "\n",
        "input_song_dist = song_topic_distribution[input_song_index]\n",
        "\n",
        "hellinger_distances = []\n",
        "\n",
        "for i, song_dist in enumerate(song_topic_distribution):\n",
        "\n",
        "    if i != input_song_index:\n",
        "\n",
        "        distance = calculate_hellinger_distance(input_song_dist, song_dist)\n",
        "        hellinger_distances.append((distance, i))\n",
        "\n",
        "hellinger_distances.sort(key=lambda x: x[0])\n",
        "\n",
        "top_5_similar_songs = hellinger_distances[:5]\n",
        "\n",
        "# Print the results\n",
        "print(f\"\\nTop 5 most similar songs to the input song {df_en['SName'].iloc[input_song_index]} by {df_en['ALink'].iloc[input_song_index]}:\")\n",
        "for distance, song_index in top_5_similar_songs:\n",
        "    print(f\"Song {df_en['SName'].iloc[song_index]} by {df_en['ALink'].iloc[song_index]}\")"
      ]
    },
    {
      "cell_type": "code",
      "execution_count": null,
      "id": "7HkN5nBzGfus",
      "metadata": {
        "id": "7HkN5nBzGfus",
        "outputId": "a5e52d4f-8f0a-455f-ceea-b873fb5485af",
        "colab": {
          "base_uri": "https://localhost:8080/"
        }
      },
      "outputs": [
        {
          "output_type": "execute_result",
          "data": {
            "text/plain": [
              "[(0, 0.16637278),\n",
              " (1, 0.011681465),\n",
              " (2, 0.010167061),\n",
              " (3, 0.086907074),\n",
              " (4, 0.2458164),\n",
              " (6, 0.022881556),\n",
              " (7, 0.45506352)]"
            ]
          },
          "metadata": {},
          "execution_count": 24
        }
      ],
      "source": [
        "song_topic_distribution[65]"
      ]
    },
    {
      "cell_type": "code",
      "execution_count": null,
      "id": "9B6YZt1JGfut",
      "metadata": {
        "id": "9B6YZt1JGfut",
        "outputId": "a80d208d-d41b-4bea-a879-710ee250624f",
        "colab": {
          "base_uri": "https://localhost:8080/"
        }
      },
      "outputs": [
        {
          "output_type": "stream",
          "name": "stdout",
          "text": [
            "So Much Pain\n",
            "[Master P and (Mo B. Dick)]\n",
            "Oh like that (Ooh)\n",
            "Tre-8 they ain't ready for this dog (Ooh)\n",
            "Smoke One and No Limit (Ooh)\n",
            "All the way from California to New Orleans\n",
            "Ask em' about it, so much pain boy (So much pain)\n",
            "\n",
            "[Master P]\n",
            "Birds in the kitchen, palms itchin'\n",
            "And all y'all niggas in the game pay attention\n",
            "As I teach, ain't got no time to preach\n",
            "2 for 3, 4 for 5, 16 a fuckin' key\n",
            "Don't laugh, niggas like to backstab\n",
            "But where I'm from see yo brother on a body slab\n",
            "New Orleans, the city of the candy cream\n",
            "A bunch of projects full of jackers and dope fiends\n",
            "As I cry, think one day I gotta die\n",
            "But I don't give a fuck cause ain't no love from the outside\n",
            "As I walk to the projects\n",
            "Niggas killin' dope fiends behind fuckin' county checks\n",
            "And my younger homie smokin' dope\n",
            "The niggas I used to hang with doin' that boy broke\n",
            "And they gone off that water, water\n",
            "Ain't no love from New Orleans all the way back to Florida\n",
            "It's just a bunch of pain\n",
            "\n",
            "[Chorus: Mo B. Dick]\n",
            "So much pain, so much pain\n",
            "So much pain, so much pain\n",
            "\n",
            "[Mia X]\n",
            "I'm feelin' so much pain, holdin' back my tears of anger\n",
            "As I walk through this danger zone\n",
            "That I used to call home\n",
            "Strangers got my nerves all jumpy\n",
            "But it's best I watch them niggas who be smilin' actin' chummy\n",
            "Like it's all real\n",
            "I don't know why they got it in for me\n",
            "Like my girl Jill, who was sleepin' with the enemy\n",
            "Never knew the handy dope was a sad one\n",
            "Now I know the vibes that I felt was some bad ones\n",
            "Takes a mad one, females so precious\n",
            "Tryin' to move on since our best friend left us\n",
            "Got my baby still stuck in this drama filled blue\n",
            "Tryin' to get my pockets on so I can snatch him from this zoo\n",
            "And paint a clearer picture cause the one I see now\n",
            "Got my vision all blurry, hard to see my way out\n",
            "Bow my head to Lord and pray hard for a change\n",
            "Can lift a sister from feelin' this\n",
            "So much pain, so much pain\n",
            "\n",
            "[Chorus]\n",
            "\n",
            "[Tre-8]\n",
            "Growin' up as a youngster, comin' around that thug life\n",
            "Dog nights with drug fights just made me get my mind right\n",
            "But times I just slap on ya block and leave me bleedin'\n",
            "It's hard for me to run cause they might catch me when I'm sleepin'\n",
            "But I'm peepin' out the go round, wipe the sweat from my forehead\n",
            "Take a swig of the beer and reminice about what my boy said\n",
            "He told me keep my head up, don't get filled with all this drama\n",
            "Havin' talks with my diary cause I can't have talks with my mama\n",
            "And still feel my eyes fold I start to be the best\n",
            "Sometimes I cock my nine and wanna get it of my chest\n",
            "But I guess I'll just take it one day at a time\n",
            "But until a nigga die I got these feelings on my mind\n",
            "Fuckin' so much pain\n",
            "\n",
            "[Chorus to fade\n"
          ]
        }
      ],
      "source": [
        "print(df_en['SName'].iloc[65])\n",
        "print(df_en['Lyric'].iloc[65])"
      ]
    },
    {
      "cell_type": "code",
      "execution_count": null,
      "id": "a1ot2ZViGfut",
      "metadata": {
        "id": "a1ot2ZViGfut",
        "outputId": "5855ec78-1ff3-4b9e-93e1-c4fe0d42d18c",
        "colab": {
          "base_uri": "https://localhost:8080/"
        }
      },
      "outputs": [
        {
          "output_type": "execute_result",
          "data": {
            "text/plain": [
              "[(0, 0.18533686),\n",
              " (1, 0.020666035),\n",
              " (2, 0.048350923),\n",
              " (3, 0.08434779),\n",
              " (4, 0.08937986),\n",
              " (6, 0.017986083),\n",
              " (7, 0.40650696),\n",
              " (8, 0.015483296),\n",
              " (9, 0.12802215)]"
            ]
          },
          "metadata": {},
          "execution_count": 26
        }
      ],
      "source": [
        "song_topic_distribution[2881]"
      ]
    },
    {
      "cell_type": "code",
      "execution_count": null,
      "id": "dLDq61VQGfut",
      "metadata": {
        "id": "dLDq61VQGfut",
        "outputId": "45295f5d-1fa9-451f-8b60-1af8302eb95b",
        "colab": {
          "base_uri": "https://localhost:8080/"
        }
      },
      "outputs": [
        {
          "output_type": "stream",
          "name": "stdout",
          "text": [
            "Run This Town\n",
            "(Rihanna)\n",
            "Feel it coming in the air\n",
            "Hear the screams from everywhere\n",
            "I'm addicted to the the thrill\n",
            "It's a dangerous love affair\n",
            "Can't be scaring nickels down\n",
            "Got a problem, tell me now\n",
            "Only thing that's on my mind\n",
            "Is who gon' run this town tonight\n",
            "Is who gon' run this town tonight\n",
            "We gon' run this town\n",
            "\n",
            "(Jay-Z)\n",
            "We are, yeah, I said it, we are\n",
            "This is Roc Nation, pledge your allegiance\n",
            "Get y'all fatigues on, all black everything\n",
            "Black cards, black cars, all black everything\n",
            "And our girls are blackbirds, riding with they Dillingers\n",
            "I get more in-depth if you boys really real enough\n",
            "This is La Familia, I'll explain later\n",
            "But for now, let me get back to this paper\n",
            "I'm a couple bands down and I'm tryna get back\n",
            "I gave Doug a grip, I lost a flip for five stacks\n",
            "Yeah, I'm talking five comma six zeroes dot zero, here girl\n",
            "Back to running circles 'round niggas, now we squared up\n",
            "Hold up\n",
            "\n",
            "(Rihanna)\n",
            "Life's a game but it's not fair\n",
            "I break the rules so I don't care\n",
            "So I keep doing my own thing\n",
            "Walking tall against the rain\n",
            "Victory's within the mile\n",
            "Almost there, don't give up now\n",
            "Only thing that's on my mind\n",
            "Is who gon' run this town tonight\n",
            "Hey-ey-ey-ey-ey-ey, ey-ey-ey-ey\n",
            "Hey-ey-ey-ey-ey-ey, ey-ey-ey-ey\n",
            "Who gon' run this town tonight?\n",
            "\n",
            "(Jay-Z)\n",
            "We are, yeah, I said it, we are\n",
            "You can call me Caesar, in a dark Caesar\n",
            "Please follow the leader, so Eric B. we are\n",
            "Microphone fiend, it's the return of the God, peace, God\n",
            "And ain't nobody fresher\n",
            "I'm in Maison, uh, Martin Margiela\n",
            "On the table, screaming f*** the other side, they jealous\n",
            "We got a bankhead full of broads,\n",
            "they got a table full of fellas\n",
            "(Ewww) And they ain't spendin' no cake\n",
            "They should throw they hand in,\n",
            "'cause they ain't got no spades\n",
            "(Ewww) My whole team got dough\n",
            "So my bankhead is lookin' like Millionaires' Row\n",
            "(Ewww)\n",
            "\n",
            "(Rihanna)\n",
            "Life's a game but it's not fair\n",
            "I break the rules so I don't care\n",
            "So I keep doing my own thing\n",
            "Walking tall against the rain\n",
            "Victory's within the mile\n",
            "Almost there, don't give up now\n",
            "Only thing that's on my mind\n",
            "Is who gon' run this town tonight\n",
            "Hey-ey-ey-ey-ey-ey, ey-ey-ey-ey\n",
            "Hey-ey-ey-ey-ey-ey, ey-ey-ey-ey\n",
            "Who gon' run this town tonight?\n",
            "\n",
            "(Kanye West)\n",
            "It's crazy how you can go from being Joe Blow\n",
            "To everybody on your dick, no homo\n",
            "I bought my whole family whips, no Volvos\n",
            "Next time I'm in church, please no photos\n",
            "Police escorts, everybody passports\n",
            "This the life that everybody ask for\n",
            "This a fast life, we are on a crash course\n",
            "What you think I rap for?\n",
            "To push a fuckin' Rav 4?\n",
            "But I know that if I stay stunting\n",
            "All these girls only gon' want one thing\n",
            "I could spend my whole life good will hunting\n",
            "Only good gon' come is it's good when I'm coming\n",
            "She got an ass that'll swallow up her G-string\n",
            "And up top, uh, two bee stings\n",
            "And I'm beasting, off the re-sling\n",
            "And my nigga just made it out the precinct\n",
            "We give a damn about the drama that you do bring\n",
            "I'm just tryna change the color on your mood ring\n",
            "Reebok, baby, you need to try some new things\n",
            "Have you ever had shoes without shoestrings?\n",
            "What's that, Ye? Baby, these heels\n",
            "Is that a May-what? Baby, these wheels\n",
            "You trippin' when you ain't sippin', have a refill\n",
            "You feelin' like you run it, huh?\n",
            "Now you know how we feel\n",
            "\n",
            "(Jay-Z)\n",
            "Wha'sup?\n",
            "\n",
            "(Rihanna)\n",
            "Hey-ey-ey-ey-ey-ey, ey-ey-ey-ey\n",
            "Hey-ey-ey-ey-ey-ey, ey-ey-ey-ey\n",
            "\n",
            "(Jay-Z)\n",
            "Wha's up?\n",
            "\n",
            "(Rihanna)\n",
            "Hey-ey-ey-ey-ey-yeah, ey-ey-ey-yeah\n",
            "Hey-ey-ey-ey-ey-yeah\n",
            "We gon' run this town tonight\n",
            "\n",
            "(Jay-Z)\n",
            "Wha's up?\n"
          ]
        }
      ],
      "source": [
        "print(df_en['SName'].iloc[2881])\n",
        "print(df_en['Lyric'].iloc[2881])"
      ]
    },
    {
      "cell_type": "code",
      "execution_count": null,
      "id": "cf22c5f9",
      "metadata": {
        "id": "cf22c5f9",
        "outputId": "3fb6d37d-4e73-4525-fb9b-67cb8f2e2727",
        "colab": {
          "base_uri": "https://localhost:8080/"
        }
      },
      "outputs": [
        {
          "output_type": "stream",
          "name": "stdout",
          "text": [
            "I thought I had my girl but she ran away\n",
            "My car got stolen and I'm gonna be late\n",
            "For work this week\n",
            "Make that the fourth day straight\n",
            "But I'm fine with it\n",
            "I thought I had it all but I gave it away\n",
            "I quit that old job now I'm doin' okay\n",
            "Those material things\n",
            "They can't get in my way\n",
            "Cause I'm over it\n",
            "\n",
            "(PRE-CHORUS)\n",
            "But whatever she may be\n",
            "\n",
            "(CHORUS)\n",
            "She could be money, cars, fear of the dark\n",
            "Your best friends or just strangers in bars\n",
            "Whoever she is, whoever she may be\n",
            "One thing's for sure\n",
            "You don't have to worry\n",
            "\n",
            "And this is the part where you find out who you are\n",
            "And these are the friends\n",
            "Those who've been there from the start\n",
            "So to hell with the bad news\n",
            "Dirt on your new shoes\n",
            "It rained all of May\n",
            "Till the month of June\n",
            "\n",
            "(PRE-CHORUS)\n",
            "\n",
            "(CHORUS)\n",
            "\n",
            "And every day in every way oh she will look the same\n",
            "And every care you used to have just seems to float away\n",
            "To hell with your new shit\n",
            "And whether or not you think you fit in\n",
            "\n",
            "(CHORUS)\n",
            "\n",
            "She could be rainy days, minimum wage\n",
            "A book that ends with no last page\n",
            "Whoever she is, whoever she may be\n",
            "One thing's for sure\n",
            "You don't have to worry\n"
          ]
        }
      ],
      "source": [
        "print(df_en['Lyric'].iloc[3])"
      ]
    },
    {
      "cell_type": "code",
      "execution_count": null,
      "id": "8b6f68b9",
      "metadata": {
        "id": "8b6f68b9",
        "outputId": "355f316f-e8e0-487d-873e-039cb73079d8",
        "colab": {
          "base_uri": "https://localhost:8080/"
        }
      },
      "outputs": [
        {
          "output_type": "stream",
          "name": "stdout",
          "text": [
            "I got a sixty-five Cadillac\n",
            "Sparetyre on the back\n",
            "I got a charge account at Goldblatt's\n",
            "But I don't have you\n",
            "\n",
            "I got women to the left of me\n",
            "I got women to the right of me\n",
            "I got chicks all around me\n",
            "But I don't have you\n",
            "\n",
            "I got a tavern, a liquor store\n",
            "I got the numbers four forty-four\n",
            "I got a Mojo and don't you know\n",
            "I'm all dressed up with no place to go\n",
            "\n",
            "I got women to the left of me\n",
            "I got women to the right of me\n",
            "I got chicks all around me\n",
            "But I ain't got you, oh baby\n",
            "\n",
            "Yeah I got a tavern, a liquor store\n",
            "I got the numbers four forty-four\n",
            "I got a Mojo and don't you know\n",
            "I'm all dressed up with no place to go\n",
            "\n",
            "I got a sixty-five Cadillac\n",
            "Sparetyre on the back\n",
            "Charge account at Goldblatt's\n",
            "But I ain't got you, come on baby\n",
            "\n",
            "Yeah I got a tavern, a liquor store\n",
            "I got the numbers four forty-four\n",
            "I got a Mojo and don't you know\n",
            "I'm all dressed up with no place to go\n",
            "\n",
            "I got a closet full of clothes\n",
            "And no matter where I go\n",
            "Got a ring in my nose\n",
            "But I ain't got you\n",
            "\n",
            "I said I ain't got you\n",
            "Baby I ain't got you\n",
            "Well I ain't got you child\n",
            "\n",
            "\n"
          ]
        }
      ],
      "source": [
        "print(df_en['Lyric'].iloc[1415])"
      ]
    },
    {
      "cell_type": "markdown",
      "source": [
        "#### This code analyzes the sentiment and similarity between two song lyrics. It uses the VADER sentiment analyzer to compute the negative sentiment scores for the lyrics, assessing their emotional tone. It then applies the TF-IDF vectorizer to convert the lyrics into numerical representations based on term importance and calculates their cosine similarity to measure how similar the two lyrics are in content. The output includes the sentiment scores for each song and the similarity score between them."
      ],
      "metadata": {
        "id": "lG4aW50Xh5jC"
      },
      "id": "lG4aW50Xh5jC"
    },
    {
      "cell_type": "code",
      "execution_count": null,
      "id": "c52928e9",
      "metadata": {
        "id": "c52928e9",
        "outputId": "0b3a2f66-d147-49d7-b276-bdd2b2259d36",
        "colab": {
          "base_uri": "https://localhost:8080/"
        }
      },
      "outputs": [
        {
          "output_type": "stream",
          "name": "stdout",
          "text": [
            "Sentiment Score for Song 1: 0.171\n",
            "Sentiment Score for Song 2: 0.403\n",
            "Cosine Similarity between Lyrics: 0.17456553631358962\n"
          ]
        },
        {
          "output_type": "stream",
          "name": "stderr",
          "text": [
            "[nltk_data] Downloading package vader_lexicon to /root/nltk_data...\n"
          ]
        }
      ],
      "source": [
        "nltk.download('vader_lexicon')\n",
        "analyzer = SentimentIntensityAnalyzer()\n",
        "\n",
        "def get_sentiment_score(lyrics):\n",
        "    sentiment = analyzer.polarity_scores(lyrics)\n",
        "    return sentiment['neg']\n",
        "\n",
        "sentiment1 = get_sentiment_score(lemmatized_corpus[496])\n",
        "sentiment2 = get_sentiment_score(lemmatized_corpus[274])\n",
        "\n",
        "tfidf_vectorizer = TfidfVectorizer()\n",
        "lyrics_matrix = tfidf_vectorizer.fit_transform([lemmatized_corpus[496], lemmatized_corpus[274]])\n",
        "lyrics_similarity = cosine_similarity(lyrics_matrix)\n",
        "\n",
        "print(\"Sentiment Score for Song 1:\", sentiment1)\n",
        "print(\"Sentiment Score for Song 2:\", sentiment2)\n",
        "print(\"Cosine Similarity between Lyrics:\", lyrics_similarity[0][1])"
      ]
    },
    {
      "cell_type": "code",
      "execution_count": null,
      "id": "46b8a404",
      "metadata": {
        "id": "46b8a404"
      },
      "outputs": [],
      "source": [
        "## Preprocessing\n",
        "# Tokenize\n",
        "# Lowercase\n",
        "# punctuation removal\n",
        "# number removal\n",
        "# Stop word removal\n",
        "\n",
        "## Additional Preprocessing\n",
        "# Lemmatization and or stemming\n",
        "# Analysis word frequency determine if we need to remove high frequency low value words\n",
        "# Stop word removal\n",
        "\n",
        "## Data Check\n",
        "# Explore word stats\n",
        "# Everything is clean\n",
        "\n",
        "## NLP Processing\n",
        "# Sentiment Analysis\n",
        "# LDA\n",
        "# POS taging/Similarity\n",
        "\n",
        "## Front End\n",
        "# Django or Flask additions"
      ]
    },
    {
      "cell_type": "markdown",
      "id": "JVBOACbYGfuu",
      "metadata": {
        "id": "JVBOACbYGfuu"
      },
      "source": [
        "Test\n",
        "ANOTHER TEST\n",
        "\n",
        "\n",
        "FINAL TEST!"
      ]
    }
  ],
  "metadata": {
    "colab": {
      "provenance": []
    },
    "kernelspec": {
      "display_name": "Python 3 (ipykernel)",
      "language": "python",
      "name": "python3"
    },
    "language_info": {
      "codemirror_mode": {
        "name": "ipython",
        "version": 3
      },
      "file_extension": ".py",
      "mimetype": "text/x-python",
      "name": "python",
      "nbconvert_exporter": "python",
      "pygments_lexer": "ipython3",
      "version": "3.12.0"
    }
  },
  "nbformat": 4,
  "nbformat_minor": 5
}